{
 "cells": [
  {
   "cell_type": "markdown",
   "id": "4d9eeb6e",
   "metadata": {},
   "source": [
    "# CUSTOMER SEGMENTATION WITH RFM"
   ]
  },
  {
   "cell_type": "code",
   "execution_count": 1,
   "id": "a3a47ffa",
   "metadata": {},
   "outputs": [],
   "source": [
    "import pandas as pd\n",
    "import numpy as np\n",
    "import datetime as dt"
   ]
  },
  {
   "cell_type": "markdown",
   "id": "23690a85",
   "metadata": {},
   "source": [
    "####  Read the HM-Sales-2018.csv data. Make a copy of the dataframe."
   ]
  },
  {
   "cell_type": "code",
   "execution_count": 2,
   "id": "0835c441",
   "metadata": {},
   "outputs": [],
   "source": [
    "df_ = pd.read_csv(\"HM-Sales-2018.csv\")\n",
    "df = df_.copy()"
   ]
  },
  {
   "cell_type": "code",
   "execution_count": 3,
   "id": "57c9c811",
   "metadata": {
    "scrolled": true
   },
   "outputs": [
    {
     "data": {
      "text/html": [
       "<div>\n",
       "<style scoped>\n",
       "    .dataframe tbody tr th:only-of-type {\n",
       "        vertical-align: middle;\n",
       "    }\n",
       "\n",
       "    .dataframe tbody tr th {\n",
       "        vertical-align: top;\n",
       "    }\n",
       "\n",
       "    .dataframe thead th {\n",
       "        text-align: right;\n",
       "    }\n",
       "</style>\n",
       "<table border=\"1\" class=\"dataframe\">\n",
       "  <thead>\n",
       "    <tr style=\"text-align: right;\">\n",
       "      <th></th>\n",
       "      <th>last_order_date</th>\n",
       "      <th>master_id</th>\n",
       "      <th>customer_value_total</th>\n",
       "      <th>order_num_total</th>\n",
       "    </tr>\n",
       "  </thead>\n",
       "  <tbody>\n",
       "    <tr>\n",
       "      <th>0</th>\n",
       "      <td>11/8/2018</td>\n",
       "      <td>CG-12520</td>\n",
       "      <td>261.9600</td>\n",
       "      <td>2</td>\n",
       "    </tr>\n",
       "    <tr>\n",
       "      <th>1</th>\n",
       "      <td>6/12/2018</td>\n",
       "      <td>DV-13045</td>\n",
       "      <td>14.6200</td>\n",
       "      <td>2</td>\n",
       "    </tr>\n",
       "    <tr>\n",
       "      <th>2</th>\n",
       "      <td>10/11/2018</td>\n",
       "      <td>SO-20335</td>\n",
       "      <td>957.5775</td>\n",
       "      <td>5</td>\n",
       "    </tr>\n",
       "    <tr>\n",
       "      <th>3</th>\n",
       "      <td>6/9/2018</td>\n",
       "      <td>BH-11710</td>\n",
       "      <td>48.8600</td>\n",
       "      <td>7</td>\n",
       "    </tr>\n",
       "    <tr>\n",
       "      <th>4</th>\n",
       "      <td>4/15/2018</td>\n",
       "      <td>AA-10480</td>\n",
       "      <td>15.5520</td>\n",
       "      <td>3</td>\n",
       "    </tr>\n",
       "    <tr>\n",
       "      <th>5</th>\n",
       "      <td>12/5/2018</td>\n",
       "      <td>IM-15070</td>\n",
       "      <td>407.9760</td>\n",
       "      <td>3</td>\n",
       "    </tr>\n",
       "    <tr>\n",
       "      <th>6</th>\n",
       "      <td>11/22/2018</td>\n",
       "      <td>Sport shoes-14815</td>\n",
       "      <td>68.8100</td>\n",
       "      <td>5</td>\n",
       "    </tr>\n",
       "    <tr>\n",
       "      <th>7</th>\n",
       "      <td>11/11/2018</td>\n",
       "      <td>PK-19075</td>\n",
       "      <td>665.8800</td>\n",
       "      <td>6</td>\n",
       "    </tr>\n",
       "    <tr>\n",
       "      <th>8</th>\n",
       "      <td>5/13/2018</td>\n",
       "      <td>AG-10270</td>\n",
       "      <td>55.5000</td>\n",
       "      <td>2</td>\n",
       "    </tr>\n",
       "    <tr>\n",
       "      <th>9</th>\n",
       "      <td>8/27/2018</td>\n",
       "      <td>ZD-21925</td>\n",
       "      <td>8.5600</td>\n",
       "      <td>2</td>\n",
       "    </tr>\n",
       "  </tbody>\n",
       "</table>\n",
       "</div>"
      ],
      "text/plain": [
       "  last_order_date          master_id  customer_value_total  order_num_total\n",
       "0       11/8/2018           CG-12520              261.9600                2\n",
       "1       6/12/2018           DV-13045               14.6200                2\n",
       "2      10/11/2018           SO-20335              957.5775                5\n",
       "3        6/9/2018           BH-11710               48.8600                7\n",
       "4       4/15/2018           AA-10480               15.5520                3\n",
       "5       12/5/2018           IM-15070              407.9760                3\n",
       "6      11/22/2018  Sport shoes-14815               68.8100                5\n",
       "7      11/11/2018           PK-19075              665.8800                6\n",
       "8       5/13/2018           AG-10270               55.5000                2\n",
       "9       8/27/2018           ZD-21925                8.5600                2"
      ]
     },
     "execution_count": 3,
     "metadata": {},
     "output_type": "execute_result"
    }
   ],
   "source": [
    "df.head(10)"
   ]
  },
  {
   "cell_type": "markdown",
   "id": "753e48ad",
   "metadata": {},
   "source": [
    "**Variable names**"
   ]
  },
  {
   "cell_type": "code",
   "execution_count": 4,
   "id": "1f8de1ef",
   "metadata": {},
   "outputs": [
    {
     "data": {
      "text/plain": [
       "Index(['last_order_date', 'master_id', 'customer_value_total',\n",
       "       'order_num_total'],\n",
       "      dtype='object')"
      ]
     },
     "execution_count": 4,
     "metadata": {},
     "output_type": "execute_result"
    }
   ],
   "source": [
    "df.columns"
   ]
  },
  {
   "cell_type": "markdown",
   "id": "6c494953",
   "metadata": {},
   "source": [
    "**Descriptive statistics**"
   ]
  },
  {
   "cell_type": "code",
   "execution_count": 5,
   "id": "779b4208",
   "metadata": {},
   "outputs": [
    {
     "data": {
      "text/html": [
       "<div>\n",
       "<style scoped>\n",
       "    .dataframe tbody tr th:only-of-type {\n",
       "        vertical-align: middle;\n",
       "    }\n",
       "\n",
       "    .dataframe tbody tr th {\n",
       "        vertical-align: top;\n",
       "    }\n",
       "\n",
       "    .dataframe thead th {\n",
       "        text-align: right;\n",
       "    }\n",
       "</style>\n",
       "<table border=\"1\" class=\"dataframe\">\n",
       "  <thead>\n",
       "    <tr style=\"text-align: right;\">\n",
       "      <th></th>\n",
       "      <th>count</th>\n",
       "      <th>mean</th>\n",
       "      <th>std</th>\n",
       "      <th>min</th>\n",
       "      <th>25%</th>\n",
       "      <th>50%</th>\n",
       "      <th>75%</th>\n",
       "      <th>max</th>\n",
       "    </tr>\n",
       "  </thead>\n",
       "  <tbody>\n",
       "    <tr>\n",
       "      <th>customer_value_total</th>\n",
       "      <td>89.0</td>\n",
       "      <td>319.931927</td>\n",
       "      <td>569.842526</td>\n",
       "      <td>1.248</td>\n",
       "      <td>29.472</td>\n",
       "      <td>95.616</td>\n",
       "      <td>294.336</td>\n",
       "      <td>3083.43</td>\n",
       "    </tr>\n",
       "    <tr>\n",
       "      <th>order_num_total</th>\n",
       "      <td>89.0</td>\n",
       "      <td>62.910112</td>\n",
       "      <td>131.704097</td>\n",
       "      <td>1.000</td>\n",
       "      <td>3.000</td>\n",
       "      <td>7.000</td>\n",
       "      <td>27.000</td>\n",
       "      <td>729.00</td>\n",
       "    </tr>\n",
       "  </tbody>\n",
       "</table>\n",
       "</div>"
      ],
      "text/plain": [
       "                      count        mean         std    min     25%     50%  \\\n",
       "customer_value_total   89.0  319.931927  569.842526  1.248  29.472  95.616   \n",
       "order_num_total        89.0   62.910112  131.704097  1.000   3.000   7.000   \n",
       "\n",
       "                          75%      max  \n",
       "customer_value_total  294.336  3083.43  \n",
       "order_num_total        27.000   729.00  "
      ]
     },
     "execution_count": 5,
     "metadata": {},
     "output_type": "execute_result"
    }
   ],
   "source": [
    "df.describe().T"
   ]
  },
  {
   "cell_type": "markdown",
   "id": "c4829f77",
   "metadata": {},
   "source": [
    "**Null Value**"
   ]
  },
  {
   "cell_type": "code",
   "execution_count": 6,
   "id": "0c2d22ff",
   "metadata": {},
   "outputs": [
    {
     "data": {
      "text/plain": [
       "last_order_date         0\n",
       "master_id               0\n",
       "customer_value_total    0\n",
       "order_num_total         0\n",
       "dtype: int64"
      ]
     },
     "execution_count": 6,
     "metadata": {},
     "output_type": "execute_result"
    }
   ],
   "source": [
    "df.isnull().sum()"
   ]
  },
  {
   "cell_type": "markdown",
   "id": "4fd3bb84",
   "metadata": {},
   "source": [
    "**Variable types**"
   ]
  },
  {
   "cell_type": "code",
   "execution_count": 7,
   "id": "c97f03f7",
   "metadata": {},
   "outputs": [
    {
     "data": {
      "text/plain": [
       "last_order_date          object\n",
       "master_id                object\n",
       "customer_value_total    float64\n",
       "order_num_total           int64\n",
       "dtype: object"
      ]
     },
     "execution_count": 7,
     "metadata": {},
     "output_type": "execute_result"
    }
   ],
   "source": [
    "df.dtypes"
   ]
  },
  {
   "cell_type": "code",
   "execution_count": 8,
   "id": "fad53543",
   "metadata": {},
   "outputs": [
    {
     "name": "stdout",
     "output_type": "stream",
     "text": [
      "<class 'pandas.core.frame.DataFrame'>\n",
      "RangeIndex: 89 entries, 0 to 88\n",
      "Data columns (total 4 columns):\n",
      " #   Column                Non-Null Count  Dtype  \n",
      "---  ------                --------------  -----  \n",
      " 0   last_order_date       89 non-null     object \n",
      " 1   master_id             89 non-null     object \n",
      " 2   customer_value_total  89 non-null     float64\n",
      " 3   order_num_total       89 non-null     int64  \n",
      "dtypes: float64(1), int64(1), object(2)\n",
      "memory usage: 2.9+ KB\n"
     ]
    }
   ],
   "source": [
    "df.info()"
   ]
  },
  {
   "cell_type": "markdown",
   "id": "e07adcac",
   "metadata": {},
   "source": [
    "#### Change the type of variables that express date to date."
   ]
  },
  {
   "cell_type": "code",
   "execution_count": 9,
   "id": "812ccb0e",
   "metadata": {},
   "outputs": [
    {
     "data": {
      "text/plain": [
       "['last_order_date']"
      ]
     },
     "execution_count": 9,
     "metadata": {},
     "output_type": "execute_result"
    }
   ],
   "source": [
    "date_columns = [col for col in df.columns if \"date\" in col]\n",
    "date_columns"
   ]
  },
  {
   "cell_type": "code",
   "execution_count": 10,
   "id": "33241ad1",
   "metadata": {},
   "outputs": [],
   "source": [
    "df[date_columns] = df[date_columns].astype(\"datetime64[ns]\")"
   ]
  },
  {
   "cell_type": "code",
   "execution_count": 11,
   "id": "e95caea2",
   "metadata": {
    "scrolled": true
   },
   "outputs": [
    {
     "name": "stdout",
     "output_type": "stream",
     "text": [
      "<class 'pandas.core.frame.DataFrame'>\n",
      "RangeIndex: 89 entries, 0 to 88\n",
      "Data columns (total 4 columns):\n",
      " #   Column                Non-Null Count  Dtype         \n",
      "---  ------                --------------  -----         \n",
      " 0   last_order_date       89 non-null     datetime64[ns]\n",
      " 1   master_id             89 non-null     object        \n",
      " 2   customer_value_total  89 non-null     float64       \n",
      " 3   order_num_total       89 non-null     int64         \n",
      "dtypes: datetime64[ns](1), float64(1), int64(1), object(1)\n",
      "memory usage: 2.9+ KB\n"
     ]
    }
   ],
   "source": [
    "df.info()"
   ]
  },
  {
   "cell_type": "markdown",
   "id": "e2ce2bb3",
   "metadata": {},
   "source": [
    "#### List the top 10 customers with the highest revenue."
   ]
  },
  {
   "cell_type": "code",
   "execution_count": 12,
   "id": "4e23f9c7",
   "metadata": {},
   "outputs": [
    {
     "data": {
      "text/html": [
       "<div>\n",
       "<style scoped>\n",
       "    .dataframe tbody tr th:only-of-type {\n",
       "        vertical-align: middle;\n",
       "    }\n",
       "\n",
       "    .dataframe tbody tr th {\n",
       "        vertical-align: top;\n",
       "    }\n",
       "\n",
       "    .dataframe thead th {\n",
       "        text-align: right;\n",
       "    }\n",
       "</style>\n",
       "<table border=\"1\" class=\"dataframe\">\n",
       "  <thead>\n",
       "    <tr style=\"text-align: right;\">\n",
       "      <th></th>\n",
       "      <th>master_id</th>\n",
       "      <th>customer_value_total</th>\n",
       "      <th>order_num_total</th>\n",
       "    </tr>\n",
       "  </thead>\n",
       "  <tbody>\n",
       "    <tr>\n",
       "      <th>0</th>\n",
       "      <td>CG-12520</td>\n",
       "      <td>261.9600</td>\n",
       "      <td>2</td>\n",
       "    </tr>\n",
       "    <tr>\n",
       "      <th>1</th>\n",
       "      <td>DV-13045</td>\n",
       "      <td>14.6200</td>\n",
       "      <td>2</td>\n",
       "    </tr>\n",
       "    <tr>\n",
       "      <th>2</th>\n",
       "      <td>SO-20335</td>\n",
       "      <td>957.5775</td>\n",
       "      <td>5</td>\n",
       "    </tr>\n",
       "    <tr>\n",
       "      <th>3</th>\n",
       "      <td>BH-11710</td>\n",
       "      <td>48.8600</td>\n",
       "      <td>7</td>\n",
       "    </tr>\n",
       "    <tr>\n",
       "      <th>4</th>\n",
       "      <td>AA-10480</td>\n",
       "      <td>15.5520</td>\n",
       "      <td>3</td>\n",
       "    </tr>\n",
       "    <tr>\n",
       "      <th>...</th>\n",
       "      <td>...</td>\n",
       "      <td>...</td>\n",
       "      <td>...</td>\n",
       "    </tr>\n",
       "    <tr>\n",
       "      <th>84</th>\n",
       "      <td>A-KB-16315</td>\n",
       "      <td>25.9200</td>\n",
       "      <td>8</td>\n",
       "    </tr>\n",
       "    <tr>\n",
       "      <th>85</th>\n",
       "      <td>A-RB-19705</td>\n",
       "      <td>11.3640</td>\n",
       "      <td>1</td>\n",
       "    </tr>\n",
       "    <tr>\n",
       "      <th>86</th>\n",
       "      <td>A-PN-18775</td>\n",
       "      <td>193.0600</td>\n",
       "      <td>343</td>\n",
       "    </tr>\n",
       "    <tr>\n",
       "      <th>87</th>\n",
       "      <td>A-KD-16345</td>\n",
       "      <td>102.6240</td>\n",
       "      <td>27</td>\n",
       "    </tr>\n",
       "    <tr>\n",
       "      <th>88</th>\n",
       "      <td>A-ER-13855</td>\n",
       "      <td>155.7600</td>\n",
       "      <td>216</td>\n",
       "    </tr>\n",
       "  </tbody>\n",
       "</table>\n",
       "<p>89 rows × 3 columns</p>\n",
       "</div>"
      ],
      "text/plain": [
       "     master_id  customer_value_total  order_num_total\n",
       "0     CG-12520              261.9600                2\n",
       "1     DV-13045               14.6200                2\n",
       "2     SO-20335              957.5775                5\n",
       "3     BH-11710               48.8600                7\n",
       "4     AA-10480               15.5520                3\n",
       "..         ...                   ...              ...\n",
       "84  A-KB-16315               25.9200                8\n",
       "85  A-RB-19705               11.3640                1\n",
       "86  A-PN-18775              193.0600              343\n",
       "87  A-KD-16345              102.6240               27\n",
       "88  A-ER-13855              155.7600              216\n",
       "\n",
       "[89 rows x 3 columns]"
      ]
     },
     "execution_count": 12,
     "metadata": {},
     "output_type": "execute_result"
    }
   ],
   "source": [
    "df_sort = df[[\"master_id\", \"customer_value_total\", \"order_num_total\"]]\n",
    "df_sort"
   ]
  },
  {
   "cell_type": "code",
   "execution_count": 13,
   "id": "9828d998",
   "metadata": {},
   "outputs": [
    {
     "data": {
      "text/html": [
       "<div>\n",
       "<style scoped>\n",
       "    .dataframe tbody tr th:only-of-type {\n",
       "        vertical-align: middle;\n",
       "    }\n",
       "\n",
       "    .dataframe tbody tr th {\n",
       "        vertical-align: top;\n",
       "    }\n",
       "\n",
       "    .dataframe thead th {\n",
       "        text-align: right;\n",
       "    }\n",
       "</style>\n",
       "<table border=\"1\" class=\"dataframe\">\n",
       "  <thead>\n",
       "    <tr style=\"text-align: right;\">\n",
       "      <th></th>\n",
       "      <th>master_id</th>\n",
       "      <th>customer_value_total</th>\n",
       "      <th>order_num_total</th>\n",
       "    </tr>\n",
       "  </thead>\n",
       "  <tbody>\n",
       "    <tr>\n",
       "      <th>14</th>\n",
       "      <td>TB-21520</td>\n",
       "      <td>3083.4300</td>\n",
       "      <td>7</td>\n",
       "    </tr>\n",
       "    <tr>\n",
       "      <th>73</th>\n",
       "      <td>A-BS-11590</td>\n",
       "      <td>2226.0480</td>\n",
       "      <td>512</td>\n",
       "    </tr>\n",
       "    <tr>\n",
       "      <th>61</th>\n",
       "      <td>A-GH-14485</td>\n",
       "      <td>2195.0880</td>\n",
       "      <td>343</td>\n",
       "    </tr>\n",
       "    <tr>\n",
       "      <th>58</th>\n",
       "      <td>A-EB-13870</td>\n",
       "      <td>2089.2600</td>\n",
       "      <td>27</td>\n",
       "    </tr>\n",
       "    <tr>\n",
       "      <th>48</th>\n",
       "      <td>A-SO-20335</td>\n",
       "      <td>1915.1550</td>\n",
       "      <td>125</td>\n",
       "    </tr>\n",
       "    <tr>\n",
       "      <th>53</th>\n",
       "      <td>A-PK-19075</td>\n",
       "      <td>1331.7600</td>\n",
       "      <td>216</td>\n",
       "    </tr>\n",
       "    <tr>\n",
       "      <th>28</th>\n",
       "      <td>BS-11590</td>\n",
       "      <td>1113.0240</td>\n",
       "      <td>8</td>\n",
       "    </tr>\n",
       "    <tr>\n",
       "      <th>16</th>\n",
       "      <td>GH-14485</td>\n",
       "      <td>1097.5440</td>\n",
       "      <td>7</td>\n",
       "    </tr>\n",
       "    <tr>\n",
       "      <th>12</th>\n",
       "      <td>EB-13870</td>\n",
       "      <td>1044.6300</td>\n",
       "      <td>3</td>\n",
       "    </tr>\n",
       "    <tr>\n",
       "      <th>2</th>\n",
       "      <td>SO-20335</td>\n",
       "      <td>957.5775</td>\n",
       "      <td>5</td>\n",
       "    </tr>\n",
       "  </tbody>\n",
       "</table>\n",
       "</div>"
      ],
      "text/plain": [
       "     master_id  customer_value_total  order_num_total\n",
       "14    TB-21520             3083.4300                7\n",
       "73  A-BS-11590             2226.0480              512\n",
       "61  A-GH-14485             2195.0880              343\n",
       "58  A-EB-13870             2089.2600               27\n",
       "48  A-SO-20335             1915.1550              125\n",
       "53  A-PK-19075             1331.7600              216\n",
       "28    BS-11590             1113.0240                8\n",
       "16    GH-14485             1097.5440                7\n",
       "12    EB-13870             1044.6300                3\n",
       "2     SO-20335              957.5775                5"
      ]
     },
     "execution_count": 13,
     "metadata": {},
     "output_type": "execute_result"
    }
   ],
   "source": [
    "df_sort_revenue = df_sort.sort_values(by=\"customer_value_total\", ascending=False).head(10)\n",
    "df_sort_revenue"
   ]
  },
  {
   "cell_type": "markdown",
   "id": "2f4e8dbf",
   "metadata": {},
   "source": [
    "#### List the top 10 customers with the most orders."
   ]
  },
  {
   "cell_type": "code",
   "execution_count": 14,
   "id": "adabc52d",
   "metadata": {},
   "outputs": [
    {
     "data": {
      "text/html": [
       "<div>\n",
       "<style scoped>\n",
       "    .dataframe tbody tr th:only-of-type {\n",
       "        vertical-align: middle;\n",
       "    }\n",
       "\n",
       "    .dataframe tbody tr th {\n",
       "        vertical-align: top;\n",
       "    }\n",
       "\n",
       "    .dataframe thead th {\n",
       "        text-align: right;\n",
       "    }\n",
       "</style>\n",
       "<table border=\"1\" class=\"dataframe\">\n",
       "  <thead>\n",
       "    <tr style=\"text-align: right;\">\n",
       "      <th></th>\n",
       "      <th>master_id</th>\n",
       "      <th>customer_value_total</th>\n",
       "      <th>order_num_total</th>\n",
       "    </tr>\n",
       "  </thead>\n",
       "  <tbody>\n",
       "    <tr>\n",
       "      <th>62</th>\n",
       "      <td>A-SN-20710</td>\n",
       "      <td>226.656</td>\n",
       "      <td>729</td>\n",
       "    </tr>\n",
       "    <tr>\n",
       "      <th>73</th>\n",
       "      <td>A-BS-11590</td>\n",
       "      <td>2226.048</td>\n",
       "      <td>512</td>\n",
       "    </tr>\n",
       "    <tr>\n",
       "      <th>79</th>\n",
       "      <td>A-JC-16105</td>\n",
       "      <td>401.968</td>\n",
       "      <td>343</td>\n",
       "    </tr>\n",
       "    <tr>\n",
       "      <th>56</th>\n",
       "      <td>A-KB-16585</td>\n",
       "      <td>38.920</td>\n",
       "      <td>343</td>\n",
       "    </tr>\n",
       "    <tr>\n",
       "      <th>49</th>\n",
       "      <td>A-BH-11710</td>\n",
       "      <td>97.720</td>\n",
       "      <td>343</td>\n",
       "    </tr>\n",
       "    <tr>\n",
       "      <th>86</th>\n",
       "      <td>A-PN-18775</td>\n",
       "      <td>193.060</td>\n",
       "      <td>343</td>\n",
       "    </tr>\n",
       "    <tr>\n",
       "      <th>61</th>\n",
       "      <td>A-GH-14485</td>\n",
       "      <td>2195.088</td>\n",
       "      <td>343</td>\n",
       "    </tr>\n",
       "    <tr>\n",
       "      <th>69</th>\n",
       "      <td>A-JM-15265</td>\n",
       "      <td>30.520</td>\n",
       "      <td>343</td>\n",
       "    </tr>\n",
       "    <tr>\n",
       "      <th>82</th>\n",
       "      <td>A-GM-14455</td>\n",
       "      <td>316.736</td>\n",
       "      <td>343</td>\n",
       "    </tr>\n",
       "    <tr>\n",
       "      <th>88</th>\n",
       "      <td>A-ER-13855</td>\n",
       "      <td>155.760</td>\n",
       "      <td>216</td>\n",
       "    </tr>\n",
       "  </tbody>\n",
       "</table>\n",
       "</div>"
      ],
      "text/plain": [
       "     master_id  customer_value_total  order_num_total\n",
       "62  A-SN-20710               226.656              729\n",
       "73  A-BS-11590              2226.048              512\n",
       "79  A-JC-16105               401.968              343\n",
       "56  A-KB-16585                38.920              343\n",
       "49  A-BH-11710                97.720              343\n",
       "86  A-PN-18775               193.060              343\n",
       "61  A-GH-14485              2195.088              343\n",
       "69  A-JM-15265                30.520              343\n",
       "82  A-GM-14455               316.736              343\n",
       "88  A-ER-13855               155.760              216"
      ]
     },
     "execution_count": 14,
     "metadata": {},
     "output_type": "execute_result"
    }
   ],
   "source": [
    "df_sort_orders = df_sort.sort_values(by=\"order_num_total\", ascending=False).head(10)\n",
    "df_sort_orders"
   ]
  },
  {
   "cell_type": "markdown",
   "id": "860f900a",
   "metadata": {},
   "source": [
    "#### Calculating RFM Metrics"
   ]
  },
  {
   "cell_type": "code",
   "execution_count": 15,
   "id": "26ab2444",
   "metadata": {},
   "outputs": [
    {
     "data": {
      "text/plain": [
       "Timestamp('2018-12-27 00:00:00')"
      ]
     },
     "execution_count": 15,
     "metadata": {},
     "output_type": "execute_result"
    }
   ],
   "source": [
    "df[\"last_order_date\"].max()"
   ]
  },
  {
   "cell_type": "code",
   "execution_count": 16,
   "id": "68c01de6",
   "metadata": {},
   "outputs": [
    {
     "data": {
      "text/plain": [
       "datetime.datetime(2019, 6, 1, 0, 0)"
      ]
     },
     "execution_count": 16,
     "metadata": {},
     "output_type": "execute_result"
    }
   ],
   "source": [
    "today_date = dt.datetime(2019, 6, 1)\n",
    "today_date"
   ]
  },
  {
   "cell_type": "code",
   "execution_count": 17,
   "id": "a742e516",
   "metadata": {},
   "outputs": [
    {
     "data": {
      "text/html": [
       "<div>\n",
       "<style scoped>\n",
       "    .dataframe tbody tr th:only-of-type {\n",
       "        vertical-align: middle;\n",
       "    }\n",
       "\n",
       "    .dataframe tbody tr th {\n",
       "        vertical-align: top;\n",
       "    }\n",
       "\n",
       "    .dataframe thead th {\n",
       "        text-align: right;\n",
       "    }\n",
       "</style>\n",
       "<table border=\"1\" class=\"dataframe\">\n",
       "  <thead>\n",
       "    <tr style=\"text-align: right;\">\n",
       "      <th></th>\n",
       "      <th>master_id</th>\n",
       "      <th>last_order_date</th>\n",
       "      <th>order_num_total</th>\n",
       "      <th>customer_value_total</th>\n",
       "    </tr>\n",
       "  </thead>\n",
       "  <tbody>\n",
       "    <tr>\n",
       "      <th>0</th>\n",
       "      <td>A-AA-10480</td>\n",
       "      <td>412</td>\n",
       "      <td>27</td>\n",
       "      <td>31.104</td>\n",
       "    </tr>\n",
       "    <tr>\n",
       "      <th>1</th>\n",
       "      <td>A-AG-10270</td>\n",
       "      <td>384</td>\n",
       "      <td>8</td>\n",
       "      <td>111.000</td>\n",
       "    </tr>\n",
       "    <tr>\n",
       "      <th>2</th>\n",
       "      <td>A-BH-11710</td>\n",
       "      <td>357</td>\n",
       "      <td>343</td>\n",
       "      <td>97.720</td>\n",
       "    </tr>\n",
       "    <tr>\n",
       "      <th>3</th>\n",
       "      <td>A-BS-11590</td>\n",
       "      <td>178</td>\n",
       "      <td>512</td>\n",
       "      <td>2226.048</td>\n",
       "    </tr>\n",
       "    <tr>\n",
       "      <th>4</th>\n",
       "      <td>A-CG-12520</td>\n",
       "      <td>205</td>\n",
       "      <td>8</td>\n",
       "      <td>523.920</td>\n",
       "    </tr>\n",
       "  </tbody>\n",
       "</table>\n",
       "</div>"
      ],
      "text/plain": [
       "    master_id  last_order_date  order_num_total  customer_value_total\n",
       "0  A-AA-10480              412               27                31.104\n",
       "1  A-AG-10270              384                8               111.000\n",
       "2  A-BH-11710              357              343                97.720\n",
       "3  A-BS-11590              178              512              2226.048\n",
       "4  A-CG-12520              205                8               523.920"
      ]
     },
     "execution_count": 17,
     "metadata": {},
     "output_type": "execute_result"
    }
   ],
   "source": [
    "# master_id, order_num_total, customer_value_total\n",
    "rfm = df.groupby(\"master_id\").agg({\n",
    "    \"last_order_date\": lambda date: (today_date - date.max()).days,\n",
    "    \"order_num_total\": lambda order: order,\n",
    "    \"customer_value_total\": lambda price: price,\n",
    "}).reset_index()\n",
    "\n",
    "rfm.head()"
   ]
  },
  {
   "cell_type": "code",
   "execution_count": 18,
   "id": "afbe47b3",
   "metadata": {},
   "outputs": [
    {
     "data": {
      "text/html": [
       "<div>\n",
       "<style scoped>\n",
       "    .dataframe tbody tr th:only-of-type {\n",
       "        vertical-align: middle;\n",
       "    }\n",
       "\n",
       "    .dataframe tbody tr th {\n",
       "        vertical-align: top;\n",
       "    }\n",
       "\n",
       "    .dataframe thead th {\n",
       "        text-align: right;\n",
       "    }\n",
       "</style>\n",
       "<table border=\"1\" class=\"dataframe\">\n",
       "  <thead>\n",
       "    <tr style=\"text-align: right;\">\n",
       "      <th></th>\n",
       "      <th>master_id</th>\n",
       "      <th>recency</th>\n",
       "      <th>frequency</th>\n",
       "      <th>monetary</th>\n",
       "    </tr>\n",
       "  </thead>\n",
       "  <tbody>\n",
       "    <tr>\n",
       "      <th>0</th>\n",
       "      <td>A-AA-10480</td>\n",
       "      <td>412</td>\n",
       "      <td>27</td>\n",
       "      <td>31.104</td>\n",
       "    </tr>\n",
       "    <tr>\n",
       "      <th>1</th>\n",
       "      <td>A-AG-10270</td>\n",
       "      <td>384</td>\n",
       "      <td>8</td>\n",
       "      <td>111.000</td>\n",
       "    </tr>\n",
       "    <tr>\n",
       "      <th>2</th>\n",
       "      <td>A-BH-11710</td>\n",
       "      <td>357</td>\n",
       "      <td>343</td>\n",
       "      <td>97.720</td>\n",
       "    </tr>\n",
       "    <tr>\n",
       "      <th>3</th>\n",
       "      <td>A-BS-11590</td>\n",
       "      <td>178</td>\n",
       "      <td>512</td>\n",
       "      <td>2226.048</td>\n",
       "    </tr>\n",
       "    <tr>\n",
       "      <th>4</th>\n",
       "      <td>A-CG-12520</td>\n",
       "      <td>205</td>\n",
       "      <td>8</td>\n",
       "      <td>523.920</td>\n",
       "    </tr>\n",
       "  </tbody>\n",
       "</table>\n",
       "</div>"
      ],
      "text/plain": [
       "    master_id  recency  frequency  monetary\n",
       "0  A-AA-10480      412         27    31.104\n",
       "1  A-AG-10270      384          8   111.000\n",
       "2  A-BH-11710      357        343    97.720\n",
       "3  A-BS-11590      178        512  2226.048\n",
       "4  A-CG-12520      205          8   523.920"
      ]
     },
     "execution_count": 18,
     "metadata": {},
     "output_type": "execute_result"
    }
   ],
   "source": [
    "rfm.columns = [\"master_id\", \"recency\", \"frequency\", \"monetary\"]\n",
    "rfm.head()"
   ]
  },
  {
   "cell_type": "markdown",
   "id": "1299236e",
   "metadata": {},
   "source": [
    "#### Calculating RFM Scores"
   ]
  },
  {
   "cell_type": "code",
   "execution_count": 19,
   "id": "c12249b6",
   "metadata": {
    "scrolled": true
   },
   "outputs": [],
   "source": [
    "rfm[\"recency_score\"] = pd.qcut(rfm[\"recency\"], 5, labels=[5, 4, 3, 2, 1])\n",
    "rfm[\"frequency_score\"] = pd.qcut(rfm[\"frequency\"].rank(method=\"first\") ,5, labels=[1, 2, 3, 4, 5])\n",
    "rfm[\"monetary_score\"] = pd.qcut(rfm[\"monetary\"], 5, labels=[1, 2, 3, 4, 5])"
   ]
  },
  {
   "cell_type": "code",
   "execution_count": null,
   "id": "c32eba02",
   "metadata": {},
   "outputs": [],
   "source": []
  },
  {
   "cell_type": "code",
   "execution_count": 20,
   "id": "86686548",
   "metadata": {},
   "outputs": [],
   "source": [
    "rfm[\"RFM_SCORE\"] = (rfm[\"recency_score\"].astype(str) + rfm[\"frequency_score\"].astype(str))"
   ]
  },
  {
   "cell_type": "code",
   "execution_count": 21,
   "id": "29692ec4",
   "metadata": {},
   "outputs": [
    {
     "data": {
      "text/html": [
       "<div>\n",
       "<style scoped>\n",
       "    .dataframe tbody tr th:only-of-type {\n",
       "        vertical-align: middle;\n",
       "    }\n",
       "\n",
       "    .dataframe tbody tr th {\n",
       "        vertical-align: top;\n",
       "    }\n",
       "\n",
       "    .dataframe thead th {\n",
       "        text-align: right;\n",
       "    }\n",
       "</style>\n",
       "<table border=\"1\" class=\"dataframe\">\n",
       "  <thead>\n",
       "    <tr style=\"text-align: right;\">\n",
       "      <th></th>\n",
       "      <th>master_id</th>\n",
       "      <th>recency</th>\n",
       "      <th>frequency</th>\n",
       "      <th>monetary</th>\n",
       "      <th>recency_score</th>\n",
       "      <th>frequency_score</th>\n",
       "      <th>monetary_score</th>\n",
       "      <th>RFM_SCORE</th>\n",
       "    </tr>\n",
       "  </thead>\n",
       "  <tbody>\n",
       "    <tr>\n",
       "      <th>0</th>\n",
       "      <td>A-AA-10480</td>\n",
       "      <td>412</td>\n",
       "      <td>27</td>\n",
       "      <td>31.104</td>\n",
       "      <td>1</td>\n",
       "      <td>4</td>\n",
       "      <td>2</td>\n",
       "      <td>14</td>\n",
       "    </tr>\n",
       "    <tr>\n",
       "      <th>1</th>\n",
       "      <td>A-AG-10270</td>\n",
       "      <td>384</td>\n",
       "      <td>8</td>\n",
       "      <td>111.000</td>\n",
       "      <td>1</td>\n",
       "      <td>3</td>\n",
       "      <td>3</td>\n",
       "      <td>13</td>\n",
       "    </tr>\n",
       "    <tr>\n",
       "      <th>2</th>\n",
       "      <td>A-BH-11710</td>\n",
       "      <td>357</td>\n",
       "      <td>343</td>\n",
       "      <td>97.720</td>\n",
       "      <td>2</td>\n",
       "      <td>5</td>\n",
       "      <td>3</td>\n",
       "      <td>25</td>\n",
       "    </tr>\n",
       "    <tr>\n",
       "      <th>3</th>\n",
       "      <td>A-BS-11590</td>\n",
       "      <td>178</td>\n",
       "      <td>512</td>\n",
       "      <td>2226.048</td>\n",
       "      <td>5</td>\n",
       "      <td>5</td>\n",
       "      <td>5</td>\n",
       "      <td>55</td>\n",
       "    </tr>\n",
       "    <tr>\n",
       "      <th>4</th>\n",
       "      <td>A-CG-12520</td>\n",
       "      <td>205</td>\n",
       "      <td>8</td>\n",
       "      <td>523.920</td>\n",
       "      <td>4</td>\n",
       "      <td>3</td>\n",
       "      <td>5</td>\n",
       "      <td>43</td>\n",
       "    </tr>\n",
       "  </tbody>\n",
       "</table>\n",
       "</div>"
      ],
      "text/plain": [
       "    master_id  recency  frequency  monetary recency_score frequency_score  \\\n",
       "0  A-AA-10480      412         27    31.104             1               4   \n",
       "1  A-AG-10270      384          8   111.000             1               3   \n",
       "2  A-BH-11710      357        343    97.720             2               5   \n",
       "3  A-BS-11590      178        512  2226.048             5               5   \n",
       "4  A-CG-12520      205          8   523.920             4               3   \n",
       "\n",
       "  monetary_score RFM_SCORE  \n",
       "0              2        14  \n",
       "1              3        13  \n",
       "2              3        25  \n",
       "3              5        55  \n",
       "4              5        43  "
      ]
     },
     "execution_count": 21,
     "metadata": {},
     "output_type": "execute_result"
    }
   ],
   "source": [
    "rfm.head()"
   ]
  },
  {
   "cell_type": "markdown",
   "id": "1d59b78a",
   "metadata": {},
   "source": [
    "#### Segment Definition of RFM Scores"
   ]
  },
  {
   "cell_type": "code",
   "execution_count": 22,
   "id": "0b4cde08",
   "metadata": {},
   "outputs": [],
   "source": [
    "seg_map = {\n",
    "        r'[1-2][1-2]': 'hibernating',\n",
    "        r'[1-2][3-4]': 'at_Risk',\n",
    "        r'[1-2]5': 'cant_loose',\n",
    "        r'3[1-2]': 'about_to_sleep',\n",
    "        r'33': 'need_attention',\n",
    "        r'[3-4][4-5]': 'loyal_customers',\n",
    "        r'41': 'promising',\n",
    "        r'51': 'new_customers',\n",
    "        r'[4-5][2-3]': 'potential_loyalists',\n",
    "        r'5[4-5]': 'champions',\n",
    "}"
   ]
  },
  {
   "cell_type": "code",
   "execution_count": 23,
   "id": "e48aa76b",
   "metadata": {},
   "outputs": [],
   "source": [
    "rfm[\"segment\"] = rfm[\"RFM_SCORE\"].replace(seg_map, regex=True)"
   ]
  },
  {
   "cell_type": "code",
   "execution_count": 24,
   "id": "07c770ab",
   "metadata": {
    "scrolled": true
   },
   "outputs": [
    {
     "data": {
      "text/html": [
       "<div>\n",
       "<style scoped>\n",
       "    .dataframe tbody tr th:only-of-type {\n",
       "        vertical-align: middle;\n",
       "    }\n",
       "\n",
       "    .dataframe tbody tr th {\n",
       "        vertical-align: top;\n",
       "    }\n",
       "\n",
       "    .dataframe thead th {\n",
       "        text-align: right;\n",
       "    }\n",
       "</style>\n",
       "<table border=\"1\" class=\"dataframe\">\n",
       "  <thead>\n",
       "    <tr style=\"text-align: right;\">\n",
       "      <th></th>\n",
       "      <th>master_id</th>\n",
       "      <th>recency</th>\n",
       "      <th>frequency</th>\n",
       "      <th>monetary</th>\n",
       "      <th>recency_score</th>\n",
       "      <th>frequency_score</th>\n",
       "      <th>monetary_score</th>\n",
       "      <th>RFM_SCORE</th>\n",
       "      <th>segment</th>\n",
       "    </tr>\n",
       "  </thead>\n",
       "  <tbody>\n",
       "    <tr>\n",
       "      <th>0</th>\n",
       "      <td>A-AA-10480</td>\n",
       "      <td>412</td>\n",
       "      <td>27</td>\n",
       "      <td>31.104</td>\n",
       "      <td>1</td>\n",
       "      <td>4</td>\n",
       "      <td>2</td>\n",
       "      <td>14</td>\n",
       "      <td>at_Risk</td>\n",
       "    </tr>\n",
       "    <tr>\n",
       "      <th>1</th>\n",
       "      <td>A-AG-10270</td>\n",
       "      <td>384</td>\n",
       "      <td>8</td>\n",
       "      <td>111.000</td>\n",
       "      <td>1</td>\n",
       "      <td>3</td>\n",
       "      <td>3</td>\n",
       "      <td>13</td>\n",
       "      <td>at_Risk</td>\n",
       "    </tr>\n",
       "    <tr>\n",
       "      <th>2</th>\n",
       "      <td>A-BH-11710</td>\n",
       "      <td>357</td>\n",
       "      <td>343</td>\n",
       "      <td>97.720</td>\n",
       "      <td>2</td>\n",
       "      <td>5</td>\n",
       "      <td>3</td>\n",
       "      <td>25</td>\n",
       "      <td>cant_loose</td>\n",
       "    </tr>\n",
       "    <tr>\n",
       "      <th>3</th>\n",
       "      <td>A-BS-11590</td>\n",
       "      <td>178</td>\n",
       "      <td>512</td>\n",
       "      <td>2226.048</td>\n",
       "      <td>5</td>\n",
       "      <td>5</td>\n",
       "      <td>5</td>\n",
       "      <td>55</td>\n",
       "      <td>champions</td>\n",
       "    </tr>\n",
       "    <tr>\n",
       "      <th>4</th>\n",
       "      <td>A-CG-12520</td>\n",
       "      <td>205</td>\n",
       "      <td>8</td>\n",
       "      <td>523.920</td>\n",
       "      <td>4</td>\n",
       "      <td>3</td>\n",
       "      <td>5</td>\n",
       "      <td>43</td>\n",
       "      <td>potential_loyalists</td>\n",
       "    </tr>\n",
       "  </tbody>\n",
       "</table>\n",
       "</div>"
      ],
      "text/plain": [
       "    master_id  recency  frequency  monetary recency_score frequency_score  \\\n",
       "0  A-AA-10480      412         27    31.104             1               4   \n",
       "1  A-AG-10270      384          8   111.000             1               3   \n",
       "2  A-BH-11710      357        343    97.720             2               5   \n",
       "3  A-BS-11590      178        512  2226.048             5               5   \n",
       "4  A-CG-12520      205          8   523.920             4               3   \n",
       "\n",
       "  monetary_score RFM_SCORE              segment  \n",
       "0              2        14              at_Risk  \n",
       "1              3        13              at_Risk  \n",
       "2              3        25           cant_loose  \n",
       "3              5        55            champions  \n",
       "4              5        43  potential_loyalists  "
      ]
     },
     "execution_count": 24,
     "metadata": {},
     "output_type": "execute_result"
    }
   ],
   "source": [
    "rfm.head()"
   ]
  },
  {
   "cell_type": "markdown",
   "id": "b64387a0",
   "metadata": {},
   "source": [
    "#### Examine the recency, frequency and monetary averages of the segments."
   ]
  },
  {
   "cell_type": "code",
   "execution_count": 25,
   "id": "986c8eb1",
   "metadata": {},
   "outputs": [
    {
     "data": {
      "text/html": [
       "<div>\n",
       "<style scoped>\n",
       "    .dataframe tbody tr th:only-of-type {\n",
       "        vertical-align: middle;\n",
       "    }\n",
       "\n",
       "    .dataframe tbody tr th {\n",
       "        vertical-align: top;\n",
       "    }\n",
       "\n",
       "    .dataframe thead th {\n",
       "        text-align: right;\n",
       "    }\n",
       "</style>\n",
       "<table border=\"1\" class=\"dataframe\">\n",
       "  <thead>\n",
       "    <tr style=\"text-align: right;\">\n",
       "      <th></th>\n",
       "      <th>recency(mean)</th>\n",
       "      <th>frequency(mean)</th>\n",
       "      <th>monetary(mean)</th>\n",
       "      <th>count</th>\n",
       "    </tr>\n",
       "    <tr>\n",
       "      <th>segment</th>\n",
       "      <th></th>\n",
       "      <th></th>\n",
       "      <th></th>\n",
       "      <th></th>\n",
       "    </tr>\n",
       "  </thead>\n",
       "  <tbody>\n",
       "    <tr>\n",
       "      <th>about_to_sleep</th>\n",
       "      <td>259.285714</td>\n",
       "      <td>2.285714</td>\n",
       "      <td>189.988857</td>\n",
       "      <td>7</td>\n",
       "    </tr>\n",
       "    <tr>\n",
       "      <th>at_Risk</th>\n",
       "      <td>387.266667</td>\n",
       "      <td>11.533333</td>\n",
       "      <td>146.875467</td>\n",
       "      <td>15</td>\n",
       "    </tr>\n",
       "    <tr>\n",
       "      <th>cant_loose</th>\n",
       "      <td>386.800000</td>\n",
       "      <td>248.600000</td>\n",
       "      <td>266.849200</td>\n",
       "      <td>5</td>\n",
       "    </tr>\n",
       "    <tr>\n",
       "      <th>champions</th>\n",
       "      <td>174.636364</td>\n",
       "      <td>224.909091</td>\n",
       "      <td>629.782909</td>\n",
       "      <td>11</td>\n",
       "    </tr>\n",
       "    <tr>\n",
       "      <th>hibernating</th>\n",
       "      <td>385.187500</td>\n",
       "      <td>2.500000</td>\n",
       "      <td>103.467438</td>\n",
       "      <td>16</td>\n",
       "    </tr>\n",
       "  </tbody>\n",
       "</table>\n",
       "</div>"
      ],
      "text/plain": [
       "                recency(mean)  frequency(mean)  monetary(mean)  count\n",
       "segment                                                              \n",
       "about_to_sleep     259.285714         2.285714      189.988857      7\n",
       "at_Risk            387.266667        11.533333      146.875467     15\n",
       "cant_loose         386.800000       248.600000      266.849200      5\n",
       "champions          174.636364       224.909091      629.782909     11\n",
       "hibernating        385.187500         2.500000      103.467438     16"
      ]
     },
     "execution_count": 25,
     "metadata": {},
     "output_type": "execute_result"
    }
   ],
   "source": [
    "segment_analysis =rfm.groupby(\"segment\").agg({\n",
    "    \"recency\": \"mean\",\n",
    "    \"frequency\": \"mean\",\n",
    "     \"monetary\": \"mean\",\n",
    "    \"segment\": \"count\"\n",
    "})\n",
    "\n",
    "segment_analysis.columns = [\"recency(mean)\", \"frequency(mean)\", \"monetary(mean)\", \"count\"]\n",
    "segment_analysis.head()"
   ]
  }
 ],
 "metadata": {
  "kernelspec": {
   "display_name": "Python 3 (ipykernel)",
   "language": "python",
   "name": "python3"
  },
  "language_info": {
   "codemirror_mode": {
    "name": "ipython",
    "version": 3
   },
   "file_extension": ".py",
   "mimetype": "text/x-python",
   "name": "python",
   "nbconvert_exporter": "python",
   "pygments_lexer": "ipython3",
   "version": "3.10.9"
  }
 },
 "nbformat": 4,
 "nbformat_minor": 5
}
